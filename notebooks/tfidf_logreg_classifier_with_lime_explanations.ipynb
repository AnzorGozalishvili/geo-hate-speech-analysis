{
  "nbformat": 4,
  "nbformat_minor": 0,
  "metadata": {
    "colab": {
      "provenance": [],
      "authorship_tag": "ABX9TyMEU/X8xwuvyzPSh8HV9EG8",
      "include_colab_link": true
    },
    "kernelspec": {
      "name": "python3",
      "display_name": "Python 3"
    },
    "language_info": {
      "name": "python"
    }
  },
  "cells": [
    {
      "cell_type": "markdown",
      "metadata": {
        "id": "view-in-github",
        "colab_type": "text"
      },
      "source": [
        "<a href=\"https://colab.research.google.com/github/revaza05/geo-hate-speech-analysis/blob/main/notebooks/tfidf_logreg_classifier_with_lime_explanations.ipynb\" target=\"_parent\"><img src=\"https://colab.research.google.com/assets/colab-badge.svg\" alt=\"Open In Colab\"/></a>"
      ]
    },
    {
      "cell_type": "markdown",
      "source": [
        "# Introduction\n",
        "\n",
        "This notebook contains the code for training georgian hate speech classifier based on youtube comments data that is labeled manually."
      ],
      "metadata": {
        "id": "6jzvtR0DkTYx"
      }
    },
    {
      "cell_type": "markdown",
      "source": [
        "# Imports"
      ],
      "metadata": {
        "id": "EfgqvqEKRVzD"
      }
    },
    {
      "cell_type": "code",
      "execution_count": 2,
      "metadata": {
        "id": "JJq7WYDUQw6D"
      },
      "outputs": [],
      "source": [
        "import pandas as pd\n",
        "import matplotlib.pyplot as plt\n",
        "import numpy as np\n",
        "import os\n",
        "from wordcloud import WordCloud\n",
        "import sys\n",
        "import sklearn"
      ]
    },
    {
      "cell_type": "markdown",
      "source": [
        "# Load Georgian Hate Speech Dataset"
      ],
      "metadata": {
        "id": "9dNpLiZsRhc7"
      }
    },
    {
      "cell_type": "code",
      "source": [
        "!wget https://raw.githubusercontent.com/revaza05/geo-hate-speech-analysis/main/youtube-crawl/youtube-info-labeled.csv"
      ],
      "metadata": {
        "colab": {
          "base_uri": "https://localhost:8080/"
        },
        "id": "O1irRFS6RXly",
        "outputId": "ad042dda-b87b-4276-9880-a2065e0b075f"
      },
      "execution_count": 3,
      "outputs": [
        {
          "output_type": "stream",
          "name": "stdout",
          "text": [
            "--2023-11-08 09:32:12--  https://raw.githubusercontent.com/revaza05/geo-hate-speech-analysis/main/youtube-crawl/youtube-info-labeled.csv\n",
            "Resolving raw.githubusercontent.com (raw.githubusercontent.com)... 185.199.108.133, 185.199.109.133, 185.199.110.133, ...\n",
            "Connecting to raw.githubusercontent.com (raw.githubusercontent.com)|185.199.108.133|:443... connected.\n",
            "HTTP request sent, awaiting response... 200 OK\n",
            "Length: 83057 (81K) [text/plain]\n",
            "Saving to: ‘youtube-info-labeled.csv’\n",
            "\n",
            "\ryoutube-info-labele   0%[                    ]       0  --.-KB/s               \ryoutube-info-labele 100%[===================>]  81.11K  --.-KB/s    in 0.03s   \n",
            "\n",
            "2023-11-08 09:32:12 (3.05 MB/s) - ‘youtube-info-labeled.csv’ saved [83057/83057]\n",
            "\n"
          ]
        }
      ]
    },
    {
      "cell_type": "code",
      "source": [
        "raw_data = pd.read_csv(\"youtube-info-labeled.csv\")"
      ],
      "metadata": {
        "id": "x4uiLFhhRnTC"
      },
      "execution_count": 25,
      "outputs": []
    },
    {
      "cell_type": "code",
      "source": [
        "raw_data.head()"
      ],
      "metadata": {
        "colab": {
          "base_uri": "https://localhost:8080/",
          "height": 206
        },
        "id": "rs8PbhGZRs01",
        "outputId": "d21a112d-fcf9-4213-e8f1-f184da876835"
      },
      "execution_count": 26,
      "outputs": [
        {
          "output_type": "execute_result",
          "data": {
            "text/plain": [
              "   hate  female                                                  0  \\\n",
              "0   NaN     NaN     Ra moguva kesarias rom ramit daexmaros am xalx   \n",
              "1   1.0     1.0  ნინო ბოლქვაძე ხარ თუ ყლე ქალა რატო არ გადაყვა ...   \n",
              "2   1.0     0.0  Deda mogtyvniat ylishvilebooo guli visac daswy...   \n",
              "3   1.0     0.0  tqven dedas shevrci pirdapir visac transebs mx...   \n",
              "4   1.0     0.0  tqveni winapari movtyan tqveni dedashvecii vin...   \n",
              "\n",
              "   filtered_text  \n",
              "0            NaN  \n",
              "1            NaN  \n",
              "2            NaN  \n",
              "3            NaN  \n",
              "4            NaN  "
            ],
            "text/html": [
              "\n",
              "  <div id=\"df-962eb696-2f44-400d-9a0e-4a2a7655f220\" class=\"colab-df-container\">\n",
              "    <div>\n",
              "<style scoped>\n",
              "    .dataframe tbody tr th:only-of-type {\n",
              "        vertical-align: middle;\n",
              "    }\n",
              "\n",
              "    .dataframe tbody tr th {\n",
              "        vertical-align: top;\n",
              "    }\n",
              "\n",
              "    .dataframe thead th {\n",
              "        text-align: right;\n",
              "    }\n",
              "</style>\n",
              "<table border=\"1\" class=\"dataframe\">\n",
              "  <thead>\n",
              "    <tr style=\"text-align: right;\">\n",
              "      <th></th>\n",
              "      <th>hate</th>\n",
              "      <th>female</th>\n",
              "      <th>0</th>\n",
              "      <th>filtered_text</th>\n",
              "    </tr>\n",
              "  </thead>\n",
              "  <tbody>\n",
              "    <tr>\n",
              "      <th>0</th>\n",
              "      <td>NaN</td>\n",
              "      <td>NaN</td>\n",
              "      <td>Ra moguva kesarias rom ramit daexmaros am xalx</td>\n",
              "      <td>NaN</td>\n",
              "    </tr>\n",
              "    <tr>\n",
              "      <th>1</th>\n",
              "      <td>1.0</td>\n",
              "      <td>1.0</td>\n",
              "      <td>ნინო ბოლქვაძე ხარ თუ ყლე ქალა რატო არ გადაყვა ...</td>\n",
              "      <td>NaN</td>\n",
              "    </tr>\n",
              "    <tr>\n",
              "      <th>2</th>\n",
              "      <td>1.0</td>\n",
              "      <td>0.0</td>\n",
              "      <td>Deda mogtyvniat ylishvilebooo guli visac daswy...</td>\n",
              "      <td>NaN</td>\n",
              "    </tr>\n",
              "    <tr>\n",
              "      <th>3</th>\n",
              "      <td>1.0</td>\n",
              "      <td>0.0</td>\n",
              "      <td>tqven dedas shevrci pirdapir visac transebs mx...</td>\n",
              "      <td>NaN</td>\n",
              "    </tr>\n",
              "    <tr>\n",
              "      <th>4</th>\n",
              "      <td>1.0</td>\n",
              "      <td>0.0</td>\n",
              "      <td>tqveni winapari movtyan tqveni dedashvecii vin...</td>\n",
              "      <td>NaN</td>\n",
              "    </tr>\n",
              "  </tbody>\n",
              "</table>\n",
              "</div>\n",
              "    <div class=\"colab-df-buttons\">\n",
              "\n",
              "  <div class=\"colab-df-container\">\n",
              "    <button class=\"colab-df-convert\" onclick=\"convertToInteractive('df-962eb696-2f44-400d-9a0e-4a2a7655f220')\"\n",
              "            title=\"Convert this dataframe to an interactive table.\"\n",
              "            style=\"display:none;\">\n",
              "\n",
              "  <svg xmlns=\"http://www.w3.org/2000/svg\" height=\"24px\" viewBox=\"0 -960 960 960\">\n",
              "    <path d=\"M120-120v-720h720v720H120Zm60-500h600v-160H180v160Zm220 220h160v-160H400v160Zm0 220h160v-160H400v160ZM180-400h160v-160H180v160Zm440 0h160v-160H620v160ZM180-180h160v-160H180v160Zm440 0h160v-160H620v160Z\"/>\n",
              "  </svg>\n",
              "    </button>\n",
              "\n",
              "  <style>\n",
              "    .colab-df-container {\n",
              "      display:flex;\n",
              "      gap: 12px;\n",
              "    }\n",
              "\n",
              "    .colab-df-convert {\n",
              "      background-color: #E8F0FE;\n",
              "      border: none;\n",
              "      border-radius: 50%;\n",
              "      cursor: pointer;\n",
              "      display: none;\n",
              "      fill: #1967D2;\n",
              "      height: 32px;\n",
              "      padding: 0 0 0 0;\n",
              "      width: 32px;\n",
              "    }\n",
              "\n",
              "    .colab-df-convert:hover {\n",
              "      background-color: #E2EBFA;\n",
              "      box-shadow: 0px 1px 2px rgba(60, 64, 67, 0.3), 0px 1px 3px 1px rgba(60, 64, 67, 0.15);\n",
              "      fill: #174EA6;\n",
              "    }\n",
              "\n",
              "    .colab-df-buttons div {\n",
              "      margin-bottom: 4px;\n",
              "    }\n",
              "\n",
              "    [theme=dark] .colab-df-convert {\n",
              "      background-color: #3B4455;\n",
              "      fill: #D2E3FC;\n",
              "    }\n",
              "\n",
              "    [theme=dark] .colab-df-convert:hover {\n",
              "      background-color: #434B5C;\n",
              "      box-shadow: 0px 1px 3px 1px rgba(0, 0, 0, 0.15);\n",
              "      filter: drop-shadow(0px 1px 2px rgba(0, 0, 0, 0.3));\n",
              "      fill: #FFFFFF;\n",
              "    }\n",
              "  </style>\n",
              "\n",
              "    <script>\n",
              "      const buttonEl =\n",
              "        document.querySelector('#df-962eb696-2f44-400d-9a0e-4a2a7655f220 button.colab-df-convert');\n",
              "      buttonEl.style.display =\n",
              "        google.colab.kernel.accessAllowed ? 'block' : 'none';\n",
              "\n",
              "      async function convertToInteractive(key) {\n",
              "        const element = document.querySelector('#df-962eb696-2f44-400d-9a0e-4a2a7655f220');\n",
              "        const dataTable =\n",
              "          await google.colab.kernel.invokeFunction('convertToInteractive',\n",
              "                                                    [key], {});\n",
              "        if (!dataTable) return;\n",
              "\n",
              "        const docLinkHtml = 'Like what you see? Visit the ' +\n",
              "          '<a target=\"_blank\" href=https://colab.research.google.com/notebooks/data_table.ipynb>data table notebook</a>'\n",
              "          + ' to learn more about interactive tables.';\n",
              "        element.innerHTML = '';\n",
              "        dataTable['output_type'] = 'display_data';\n",
              "        await google.colab.output.renderOutput(dataTable, element);\n",
              "        const docLink = document.createElement('div');\n",
              "        docLink.innerHTML = docLinkHtml;\n",
              "        element.appendChild(docLink);\n",
              "      }\n",
              "    </script>\n",
              "  </div>\n",
              "\n",
              "\n",
              "<div id=\"df-d7732b90-228f-4fdb-8816-7b051a1eca3a\">\n",
              "  <button class=\"colab-df-quickchart\" onclick=\"quickchart('df-d7732b90-228f-4fdb-8816-7b051a1eca3a')\"\n",
              "            title=\"Suggest charts\"\n",
              "            style=\"display:none;\">\n",
              "\n",
              "<svg xmlns=\"http://www.w3.org/2000/svg\" height=\"24px\"viewBox=\"0 0 24 24\"\n",
              "     width=\"24px\">\n",
              "    <g>\n",
              "        <path d=\"M19 3H5c-1.1 0-2 .9-2 2v14c0 1.1.9 2 2 2h14c1.1 0 2-.9 2-2V5c0-1.1-.9-2-2-2zM9 17H7v-7h2v7zm4 0h-2V7h2v10zm4 0h-2v-4h2v4z\"/>\n",
              "    </g>\n",
              "</svg>\n",
              "  </button>\n",
              "\n",
              "<style>\n",
              "  .colab-df-quickchart {\n",
              "      --bg-color: #E8F0FE;\n",
              "      --fill-color: #1967D2;\n",
              "      --hover-bg-color: #E2EBFA;\n",
              "      --hover-fill-color: #174EA6;\n",
              "      --disabled-fill-color: #AAA;\n",
              "      --disabled-bg-color: #DDD;\n",
              "  }\n",
              "\n",
              "  [theme=dark] .colab-df-quickchart {\n",
              "      --bg-color: #3B4455;\n",
              "      --fill-color: #D2E3FC;\n",
              "      --hover-bg-color: #434B5C;\n",
              "      --hover-fill-color: #FFFFFF;\n",
              "      --disabled-bg-color: #3B4455;\n",
              "      --disabled-fill-color: #666;\n",
              "  }\n",
              "\n",
              "  .colab-df-quickchart {\n",
              "    background-color: var(--bg-color);\n",
              "    border: none;\n",
              "    border-radius: 50%;\n",
              "    cursor: pointer;\n",
              "    display: none;\n",
              "    fill: var(--fill-color);\n",
              "    height: 32px;\n",
              "    padding: 0;\n",
              "    width: 32px;\n",
              "  }\n",
              "\n",
              "  .colab-df-quickchart:hover {\n",
              "    background-color: var(--hover-bg-color);\n",
              "    box-shadow: 0 1px 2px rgba(60, 64, 67, 0.3), 0 1px 3px 1px rgba(60, 64, 67, 0.15);\n",
              "    fill: var(--button-hover-fill-color);\n",
              "  }\n",
              "\n",
              "  .colab-df-quickchart-complete:disabled,\n",
              "  .colab-df-quickchart-complete:disabled:hover {\n",
              "    background-color: var(--disabled-bg-color);\n",
              "    fill: var(--disabled-fill-color);\n",
              "    box-shadow: none;\n",
              "  }\n",
              "\n",
              "  .colab-df-spinner {\n",
              "    border: 2px solid var(--fill-color);\n",
              "    border-color: transparent;\n",
              "    border-bottom-color: var(--fill-color);\n",
              "    animation:\n",
              "      spin 1s steps(1) infinite;\n",
              "  }\n",
              "\n",
              "  @keyframes spin {\n",
              "    0% {\n",
              "      border-color: transparent;\n",
              "      border-bottom-color: var(--fill-color);\n",
              "      border-left-color: var(--fill-color);\n",
              "    }\n",
              "    20% {\n",
              "      border-color: transparent;\n",
              "      border-left-color: var(--fill-color);\n",
              "      border-top-color: var(--fill-color);\n",
              "    }\n",
              "    30% {\n",
              "      border-color: transparent;\n",
              "      border-left-color: var(--fill-color);\n",
              "      border-top-color: var(--fill-color);\n",
              "      border-right-color: var(--fill-color);\n",
              "    }\n",
              "    40% {\n",
              "      border-color: transparent;\n",
              "      border-right-color: var(--fill-color);\n",
              "      border-top-color: var(--fill-color);\n",
              "    }\n",
              "    60% {\n",
              "      border-color: transparent;\n",
              "      border-right-color: var(--fill-color);\n",
              "    }\n",
              "    80% {\n",
              "      border-color: transparent;\n",
              "      border-right-color: var(--fill-color);\n",
              "      border-bottom-color: var(--fill-color);\n",
              "    }\n",
              "    90% {\n",
              "      border-color: transparent;\n",
              "      border-bottom-color: var(--fill-color);\n",
              "    }\n",
              "  }\n",
              "</style>\n",
              "\n",
              "  <script>\n",
              "    async function quickchart(key) {\n",
              "      const quickchartButtonEl =\n",
              "        document.querySelector('#' + key + ' button');\n",
              "      quickchartButtonEl.disabled = true;  // To prevent multiple clicks.\n",
              "      quickchartButtonEl.classList.add('colab-df-spinner');\n",
              "      try {\n",
              "        const charts = await google.colab.kernel.invokeFunction(\n",
              "            'suggestCharts', [key], {});\n",
              "      } catch (error) {\n",
              "        console.error('Error during call to suggestCharts:', error);\n",
              "      }\n",
              "      quickchartButtonEl.classList.remove('colab-df-spinner');\n",
              "      quickchartButtonEl.classList.add('colab-df-quickchart-complete');\n",
              "    }\n",
              "    (() => {\n",
              "      let quickchartButtonEl =\n",
              "        document.querySelector('#df-d7732b90-228f-4fdb-8816-7b051a1eca3a button');\n",
              "      quickchartButtonEl.style.display =\n",
              "        google.colab.kernel.accessAllowed ? 'block' : 'none';\n",
              "    })();\n",
              "  </script>\n",
              "</div>\n",
              "    </div>\n",
              "  </div>\n"
            ]
          },
          "metadata": {},
          "execution_count": 26
        }
      ]
    },
    {
      "cell_type": "markdown",
      "source": [
        "# Preprocess Data"
      ],
      "metadata": {
        "id": "QvXeEbNhRwGb"
      }
    },
    {
      "cell_type": "markdown",
      "source": [
        "### Explore Raw Data"
      ],
      "metadata": {
        "id": "rAAaJkt2Twf4"
      }
    },
    {
      "cell_type": "markdown",
      "source": [
        "Explore samples with missing labels"
      ],
      "metadata": {
        "id": "lVRSBsYOR0yV"
      }
    },
    {
      "cell_type": "code",
      "source": [
        "print(f\"{round(raw_data.hate.isna().sum()/raw_data.shape[0] * 100.0, 2)}% missing labels\")"
      ],
      "metadata": {
        "colab": {
          "base_uri": "https://localhost:8080/"
        },
        "id": "43cQmrqERu8e",
        "outputId": "4c130e96-8e24-471c-d218-1842a55938b1"
      },
      "execution_count": 27,
      "outputs": [
        {
          "output_type": "stream",
          "name": "stdout",
          "text": [
            "38.2% missing labels\n"
          ]
        }
      ]
    },
    {
      "cell_type": "markdown",
      "source": [
        "We only have Hate speech labels. The rest is assumed to be non-hate speech labels so we relabel data here"
      ],
      "metadata": {
        "id": "o-1iY8A5STXJ"
      }
    },
    {
      "cell_type": "code",
      "source": [
        "raw_data.hate.dropna().value_counts()"
      ],
      "metadata": {
        "colab": {
          "base_uri": "https://localhost:8080/"
        },
        "id": "CL0RWFhZSAP2",
        "outputId": "34fa09f1-9a9b-47a1-9938-643ee2d1b269"
      },
      "execution_count": 28,
      "outputs": [
        {
          "output_type": "execute_result",
          "data": {
            "text/plain": [
              "1.0    385\n",
              "Name: hate, dtype: int64"
            ]
          },
          "metadata": {},
          "execution_count": 28
        }
      ]
    },
    {
      "cell_type": "code",
      "source": [
        "raw_data.hate.fillna(0).value_counts(normalize=True)"
      ],
      "metadata": {
        "colab": {
          "base_uri": "https://localhost:8080/"
        },
        "id": "UYK4uSriSadf",
        "outputId": "ea2dc199-3c1a-45a4-adca-96a6da6947db"
      },
      "execution_count": 29,
      "outputs": [
        {
          "output_type": "execute_result",
          "data": {
            "text/plain": [
              "1.0    0.617978\n",
              "0.0    0.382022\n",
              "Name: hate, dtype: float64"
            ]
          },
          "metadata": {},
          "execution_count": 29
        }
      ]
    },
    {
      "cell_type": "markdown",
      "source": [
        "explore empty texts"
      ],
      "metadata": {
        "id": "3zT1vz4QU7tU"
      }
    },
    {
      "cell_type": "code",
      "source": [
        "(raw_data['0'].apply(lambda x: len(x) if isinstance(x, str) else 0) == 0).sum()"
      ],
      "metadata": {
        "colab": {
          "base_uri": "https://localhost:8080/"
        },
        "id": "lE2oDCnWU9X7",
        "outputId": "b9acb2d3-3d19-4371-ef0d-22a056f20851"
      },
      "execution_count": 52,
      "outputs": [
        {
          "output_type": "execute_result",
          "data": {
            "text/plain": [
              "30"
            ]
          },
          "metadata": {},
          "execution_count": 52
        }
      ]
    },
    {
      "cell_type": "markdown",
      "source": [
        "### Extract Dataset From Raw Data"
      ],
      "metadata": {
        "id": "GMhpo8VvTN-1"
      }
    },
    {
      "cell_type": "code",
      "source": [
        "dataset = raw_data[['hate', '0']]"
      ],
      "metadata": {
        "id": "2pB9i2rQS2Rz"
      },
      "execution_count": 53,
      "outputs": []
    },
    {
      "cell_type": "code",
      "source": [
        "dataset.columns = ['label', 'text']"
      ],
      "metadata": {
        "id": "dpJpeGdfTT5i"
      },
      "execution_count": 54,
      "outputs": []
    },
    {
      "cell_type": "code",
      "source": [
        "dataset = dataset[dataset['text'].apply(lambda x: len(x) if isinstance(x, str) else 0) > 0]"
      ],
      "metadata": {
        "id": "voOkcLAPVJMm"
      },
      "execution_count": 55,
      "outputs": []
    },
    {
      "cell_type": "code",
      "source": [
        "dataset.label.fillna(0, inplace=True)"
      ],
      "metadata": {
        "id": "1uK9XX12TcH5"
      },
      "execution_count": 56,
      "outputs": []
    },
    {
      "cell_type": "code",
      "source": [
        "dataset.label.value_counts(normalize=True)"
      ],
      "metadata": {
        "colab": {
          "base_uri": "https://localhost:8080/"
        },
        "id": "c_4ZvyOyTgbo",
        "outputId": "7adbce4d-7bd5-4192-eb2a-1ebe60e6649d"
      },
      "execution_count": 57,
      "outputs": [
        {
          "output_type": "execute_result",
          "data": {
            "text/plain": [
              "1.0    0.649241\n",
              "0.0    0.350759\n",
              "Name: label, dtype: float64"
            ]
          },
          "metadata": {},
          "execution_count": 57
        }
      ]
    },
    {
      "cell_type": "markdown",
      "source": [
        "Perform transliteration of georgian texts written with english letters"
      ],
      "metadata": {
        "id": "kTkvUpbOT5qf"
      }
    },
    {
      "cell_type": "code",
      "source": [
        "def transliterate_to_georgian(text):\n",
        "    transliteration_dict = {\n",
        "        'a': 'ა',\n",
        "        'b': 'ბ',\n",
        "        'g': 'გ',\n",
        "        'd': 'დ',\n",
        "        'e': 'ე',\n",
        "        'v': 'ვ',\n",
        "        'z': 'ზ',\n",
        "        't': 'თ',\n",
        "        'i': 'ი',\n",
        "        'k': 'კ',\n",
        "        'l': 'ლ',\n",
        "        'm': 'მ',\n",
        "        'n': 'ნ',\n",
        "        'o': 'ო',\n",
        "        'p': 'პ',\n",
        "        'zh': 'ჟ',\n",
        "        'r': 'რ',\n",
        "        's': 'ს',\n",
        "        'T': 'ტ',\n",
        "        'u': 'უ',\n",
        "        'f': 'ფ',\n",
        "        'q': 'ქ',\n",
        "        'gh': 'ღ',\n",
        "        'y': 'ყ',\n",
        "        'sh': 'შ',\n",
        "        'ch': 'ჩ',\n",
        "        'ts': 'ც',\n",
        "        'c': 'ც',\n",
        "        'dz': 'ძ',\n",
        "        'ts': 'წ',\n",
        "        'w': 'წ',\n",
        "        'ch': 'ჭ',\n",
        "        'kh': 'ხ',\n",
        "        'x': 'ხ',\n",
        "        'j': 'ჯ',\n",
        "        'h': 'ჰ',\n",
        "    }\n",
        "\n",
        "    georgian_text = ''\n",
        "    if text is not None and isinstance(text, str):\n",
        "        for char in text.lower():\n",
        "            if char in transliteration_dict:\n",
        "                georgian_text += transliteration_dict[char]\n",
        "            else:\n",
        "                georgian_text += char\n",
        "\n",
        "    return georgian_text"
      ],
      "metadata": {
        "id": "ogF-hAOHT_wX"
      },
      "execution_count": 58,
      "outputs": []
    },
    {
      "cell_type": "code",
      "source": [
        "dataset['text'] = dataset['text'].apply(transliterate_to_georgian)"
      ],
      "metadata": {
        "id": "-CwL3WYnUR5S"
      },
      "execution_count": 59,
      "outputs": []
    },
    {
      "cell_type": "code",
      "source": [
        "dataset.sample(20)"
      ],
      "metadata": {
        "colab": {
          "base_uri": "https://localhost:8080/",
          "height": 676
        },
        "id": "mFdn2A3MUmEB",
        "outputId": "a82ae855-bb00-4ade-a583-98d13c532b9d"
      },
      "execution_count": 61,
      "outputs": [
        {
          "output_type": "execute_result",
          "data": {
            "text/plain": [
              "     label                                               text\n",
              "348    0.0                                                  დ\n",
              "242    0.0     ზვეზდოწკას ცჰემი და ახსნის თო გამომივიდა ქურდი\n",
              "208    1.0  ავადმკოფი ხარ და ყლე ხარ აბა რა ხარ სჰენი დედა...\n",
              "534    1.0                         იდი ნახვი დედამოვტყან შენი\n",
              "540    1.0                              მოგითყან კარგის თრაკი\n",
              "421    0.0                              კომენტარებში რა გჭირთ\n",
              "254    1.0                                    რა ყლეები არიან\n",
              "289    1.0  ხო იდზახის სჰემხვდი და იქ მომთხოვე ახსნაო ვითო...\n",
              "226    1.0  ათას კაცში ზიხარ ტან ზემოთ ასე ყველას დასანახა...\n",
              "575    0.0  მართლა კრისთყ ხარ თუ ისევ სხვა დებს სჰენ ვიდეო...\n",
              "54     0.0                      კაცი იყავი და ქალად გადაკეთდი\n",
              "97     0.0                         რუსულად რას ცჰაუთარა სუკაა\n",
              "363    1.0  ჯერ აქედან ავიგოთ ქურდეის გარდა ზვორდოცჰკას ახ...\n",
              "525    1.0                       უბრალოდ მოგითკან დედის თრაკი\n",
              "326    1.0                  სჰეგევით პირსჰი თფუუუუ თქვე ყლებო\n",
              "429    0.0                                               ვახხ\n",
              "487    1.0                                   აუ რა ქრისტი ყლე\n",
              "555    1.0                            სენი ბოიფრენდიც მოვთყან\n",
              "18     1.0  აი გენაცვალე მართლა ჯიგარი ქალბატონი ბრძანდები...\n",
              "475    1.0  შენი დედის პირში ჩავხტი ჩემი რო მეტრიან ყლით შ..."
            ],
            "text/html": [
              "\n",
              "  <div id=\"df-206c302e-bef6-49a7-9d6a-d2a36d21b92a\" class=\"colab-df-container\">\n",
              "    <div>\n",
              "<style scoped>\n",
              "    .dataframe tbody tr th:only-of-type {\n",
              "        vertical-align: middle;\n",
              "    }\n",
              "\n",
              "    .dataframe tbody tr th {\n",
              "        vertical-align: top;\n",
              "    }\n",
              "\n",
              "    .dataframe thead th {\n",
              "        text-align: right;\n",
              "    }\n",
              "</style>\n",
              "<table border=\"1\" class=\"dataframe\">\n",
              "  <thead>\n",
              "    <tr style=\"text-align: right;\">\n",
              "      <th></th>\n",
              "      <th>label</th>\n",
              "      <th>text</th>\n",
              "    </tr>\n",
              "  </thead>\n",
              "  <tbody>\n",
              "    <tr>\n",
              "      <th>348</th>\n",
              "      <td>0.0</td>\n",
              "      <td>დ</td>\n",
              "    </tr>\n",
              "    <tr>\n",
              "      <th>242</th>\n",
              "      <td>0.0</td>\n",
              "      <td>ზვეზდოწკას ცჰემი და ახსნის თო გამომივიდა ქურდი</td>\n",
              "    </tr>\n",
              "    <tr>\n",
              "      <th>208</th>\n",
              "      <td>1.0</td>\n",
              "      <td>ავადმკოფი ხარ და ყლე ხარ აბა რა ხარ სჰენი დედა...</td>\n",
              "    </tr>\n",
              "    <tr>\n",
              "      <th>534</th>\n",
              "      <td>1.0</td>\n",
              "      <td>იდი ნახვი დედამოვტყან შენი</td>\n",
              "    </tr>\n",
              "    <tr>\n",
              "      <th>540</th>\n",
              "      <td>1.0</td>\n",
              "      <td>მოგითყან კარგის თრაკი</td>\n",
              "    </tr>\n",
              "    <tr>\n",
              "      <th>421</th>\n",
              "      <td>0.0</td>\n",
              "      <td>კომენტარებში რა გჭირთ</td>\n",
              "    </tr>\n",
              "    <tr>\n",
              "      <th>254</th>\n",
              "      <td>1.0</td>\n",
              "      <td>რა ყლეები არიან</td>\n",
              "    </tr>\n",
              "    <tr>\n",
              "      <th>289</th>\n",
              "      <td>1.0</td>\n",
              "      <td>ხო იდზახის სჰემხვდი და იქ მომთხოვე ახსნაო ვითო...</td>\n",
              "    </tr>\n",
              "    <tr>\n",
              "      <th>226</th>\n",
              "      <td>1.0</td>\n",
              "      <td>ათას კაცში ზიხარ ტან ზემოთ ასე ყველას დასანახა...</td>\n",
              "    </tr>\n",
              "    <tr>\n",
              "      <th>575</th>\n",
              "      <td>0.0</td>\n",
              "      <td>მართლა კრისთყ ხარ თუ ისევ სხვა დებს სჰენ ვიდეო...</td>\n",
              "    </tr>\n",
              "    <tr>\n",
              "      <th>54</th>\n",
              "      <td>0.0</td>\n",
              "      <td>კაცი იყავი და ქალად გადაკეთდი</td>\n",
              "    </tr>\n",
              "    <tr>\n",
              "      <th>97</th>\n",
              "      <td>0.0</td>\n",
              "      <td>რუსულად რას ცჰაუთარა სუკაა</td>\n",
              "    </tr>\n",
              "    <tr>\n",
              "      <th>363</th>\n",
              "      <td>1.0</td>\n",
              "      <td>ჯერ აქედან ავიგოთ ქურდეის გარდა ზვორდოცჰკას ახ...</td>\n",
              "    </tr>\n",
              "    <tr>\n",
              "      <th>525</th>\n",
              "      <td>1.0</td>\n",
              "      <td>უბრალოდ მოგითკან დედის თრაკი</td>\n",
              "    </tr>\n",
              "    <tr>\n",
              "      <th>326</th>\n",
              "      <td>1.0</td>\n",
              "      <td>სჰეგევით პირსჰი თფუუუუ თქვე ყლებო</td>\n",
              "    </tr>\n",
              "    <tr>\n",
              "      <th>429</th>\n",
              "      <td>0.0</td>\n",
              "      <td>ვახხ</td>\n",
              "    </tr>\n",
              "    <tr>\n",
              "      <th>487</th>\n",
              "      <td>1.0</td>\n",
              "      <td>აუ რა ქრისტი ყლე</td>\n",
              "    </tr>\n",
              "    <tr>\n",
              "      <th>555</th>\n",
              "      <td>1.0</td>\n",
              "      <td>სენი ბოიფრენდიც მოვთყან</td>\n",
              "    </tr>\n",
              "    <tr>\n",
              "      <th>18</th>\n",
              "      <td>1.0</td>\n",
              "      <td>აი გენაცვალე მართლა ჯიგარი ქალბატონი ბრძანდები...</td>\n",
              "    </tr>\n",
              "    <tr>\n",
              "      <th>475</th>\n",
              "      <td>1.0</td>\n",
              "      <td>შენი დედის პირში ჩავხტი ჩემი რო მეტრიან ყლით შ...</td>\n",
              "    </tr>\n",
              "  </tbody>\n",
              "</table>\n",
              "</div>\n",
              "    <div class=\"colab-df-buttons\">\n",
              "\n",
              "  <div class=\"colab-df-container\">\n",
              "    <button class=\"colab-df-convert\" onclick=\"convertToInteractive('df-206c302e-bef6-49a7-9d6a-d2a36d21b92a')\"\n",
              "            title=\"Convert this dataframe to an interactive table.\"\n",
              "            style=\"display:none;\">\n",
              "\n",
              "  <svg xmlns=\"http://www.w3.org/2000/svg\" height=\"24px\" viewBox=\"0 -960 960 960\">\n",
              "    <path d=\"M120-120v-720h720v720H120Zm60-500h600v-160H180v160Zm220 220h160v-160H400v160Zm0 220h160v-160H400v160ZM180-400h160v-160H180v160Zm440 0h160v-160H620v160ZM180-180h160v-160H180v160Zm440 0h160v-160H620v160Z\"/>\n",
              "  </svg>\n",
              "    </button>\n",
              "\n",
              "  <style>\n",
              "    .colab-df-container {\n",
              "      display:flex;\n",
              "      gap: 12px;\n",
              "    }\n",
              "\n",
              "    .colab-df-convert {\n",
              "      background-color: #E8F0FE;\n",
              "      border: none;\n",
              "      border-radius: 50%;\n",
              "      cursor: pointer;\n",
              "      display: none;\n",
              "      fill: #1967D2;\n",
              "      height: 32px;\n",
              "      padding: 0 0 0 0;\n",
              "      width: 32px;\n",
              "    }\n",
              "\n",
              "    .colab-df-convert:hover {\n",
              "      background-color: #E2EBFA;\n",
              "      box-shadow: 0px 1px 2px rgba(60, 64, 67, 0.3), 0px 1px 3px 1px rgba(60, 64, 67, 0.15);\n",
              "      fill: #174EA6;\n",
              "    }\n",
              "\n",
              "    .colab-df-buttons div {\n",
              "      margin-bottom: 4px;\n",
              "    }\n",
              "\n",
              "    [theme=dark] .colab-df-convert {\n",
              "      background-color: #3B4455;\n",
              "      fill: #D2E3FC;\n",
              "    }\n",
              "\n",
              "    [theme=dark] .colab-df-convert:hover {\n",
              "      background-color: #434B5C;\n",
              "      box-shadow: 0px 1px 3px 1px rgba(0, 0, 0, 0.15);\n",
              "      filter: drop-shadow(0px 1px 2px rgba(0, 0, 0, 0.3));\n",
              "      fill: #FFFFFF;\n",
              "    }\n",
              "  </style>\n",
              "\n",
              "    <script>\n",
              "      const buttonEl =\n",
              "        document.querySelector('#df-206c302e-bef6-49a7-9d6a-d2a36d21b92a button.colab-df-convert');\n",
              "      buttonEl.style.display =\n",
              "        google.colab.kernel.accessAllowed ? 'block' : 'none';\n",
              "\n",
              "      async function convertToInteractive(key) {\n",
              "        const element = document.querySelector('#df-206c302e-bef6-49a7-9d6a-d2a36d21b92a');\n",
              "        const dataTable =\n",
              "          await google.colab.kernel.invokeFunction('convertToInteractive',\n",
              "                                                    [key], {});\n",
              "        if (!dataTable) return;\n",
              "\n",
              "        const docLinkHtml = 'Like what you see? Visit the ' +\n",
              "          '<a target=\"_blank\" href=https://colab.research.google.com/notebooks/data_table.ipynb>data table notebook</a>'\n",
              "          + ' to learn more about interactive tables.';\n",
              "        element.innerHTML = '';\n",
              "        dataTable['output_type'] = 'display_data';\n",
              "        await google.colab.output.renderOutput(dataTable, element);\n",
              "        const docLink = document.createElement('div');\n",
              "        docLink.innerHTML = docLinkHtml;\n",
              "        element.appendChild(docLink);\n",
              "      }\n",
              "    </script>\n",
              "  </div>\n",
              "\n",
              "\n",
              "<div id=\"df-df58afe4-a21e-474b-9817-ad6ae06e5c80\">\n",
              "  <button class=\"colab-df-quickchart\" onclick=\"quickchart('df-df58afe4-a21e-474b-9817-ad6ae06e5c80')\"\n",
              "            title=\"Suggest charts\"\n",
              "            style=\"display:none;\">\n",
              "\n",
              "<svg xmlns=\"http://www.w3.org/2000/svg\" height=\"24px\"viewBox=\"0 0 24 24\"\n",
              "     width=\"24px\">\n",
              "    <g>\n",
              "        <path d=\"M19 3H5c-1.1 0-2 .9-2 2v14c0 1.1.9 2 2 2h14c1.1 0 2-.9 2-2V5c0-1.1-.9-2-2-2zM9 17H7v-7h2v7zm4 0h-2V7h2v10zm4 0h-2v-4h2v4z\"/>\n",
              "    </g>\n",
              "</svg>\n",
              "  </button>\n",
              "\n",
              "<style>\n",
              "  .colab-df-quickchart {\n",
              "      --bg-color: #E8F0FE;\n",
              "      --fill-color: #1967D2;\n",
              "      --hover-bg-color: #E2EBFA;\n",
              "      --hover-fill-color: #174EA6;\n",
              "      --disabled-fill-color: #AAA;\n",
              "      --disabled-bg-color: #DDD;\n",
              "  }\n",
              "\n",
              "  [theme=dark] .colab-df-quickchart {\n",
              "      --bg-color: #3B4455;\n",
              "      --fill-color: #D2E3FC;\n",
              "      --hover-bg-color: #434B5C;\n",
              "      --hover-fill-color: #FFFFFF;\n",
              "      --disabled-bg-color: #3B4455;\n",
              "      --disabled-fill-color: #666;\n",
              "  }\n",
              "\n",
              "  .colab-df-quickchart {\n",
              "    background-color: var(--bg-color);\n",
              "    border: none;\n",
              "    border-radius: 50%;\n",
              "    cursor: pointer;\n",
              "    display: none;\n",
              "    fill: var(--fill-color);\n",
              "    height: 32px;\n",
              "    padding: 0;\n",
              "    width: 32px;\n",
              "  }\n",
              "\n",
              "  .colab-df-quickchart:hover {\n",
              "    background-color: var(--hover-bg-color);\n",
              "    box-shadow: 0 1px 2px rgba(60, 64, 67, 0.3), 0 1px 3px 1px rgba(60, 64, 67, 0.15);\n",
              "    fill: var(--button-hover-fill-color);\n",
              "  }\n",
              "\n",
              "  .colab-df-quickchart-complete:disabled,\n",
              "  .colab-df-quickchart-complete:disabled:hover {\n",
              "    background-color: var(--disabled-bg-color);\n",
              "    fill: var(--disabled-fill-color);\n",
              "    box-shadow: none;\n",
              "  }\n",
              "\n",
              "  .colab-df-spinner {\n",
              "    border: 2px solid var(--fill-color);\n",
              "    border-color: transparent;\n",
              "    border-bottom-color: var(--fill-color);\n",
              "    animation:\n",
              "      spin 1s steps(1) infinite;\n",
              "  }\n",
              "\n",
              "  @keyframes spin {\n",
              "    0% {\n",
              "      border-color: transparent;\n",
              "      border-bottom-color: var(--fill-color);\n",
              "      border-left-color: var(--fill-color);\n",
              "    }\n",
              "    20% {\n",
              "      border-color: transparent;\n",
              "      border-left-color: var(--fill-color);\n",
              "      border-top-color: var(--fill-color);\n",
              "    }\n",
              "    30% {\n",
              "      border-color: transparent;\n",
              "      border-left-color: var(--fill-color);\n",
              "      border-top-color: var(--fill-color);\n",
              "      border-right-color: var(--fill-color);\n",
              "    }\n",
              "    40% {\n",
              "      border-color: transparent;\n",
              "      border-right-color: var(--fill-color);\n",
              "      border-top-color: var(--fill-color);\n",
              "    }\n",
              "    60% {\n",
              "      border-color: transparent;\n",
              "      border-right-color: var(--fill-color);\n",
              "    }\n",
              "    80% {\n",
              "      border-color: transparent;\n",
              "      border-right-color: var(--fill-color);\n",
              "      border-bottom-color: var(--fill-color);\n",
              "    }\n",
              "    90% {\n",
              "      border-color: transparent;\n",
              "      border-bottom-color: var(--fill-color);\n",
              "    }\n",
              "  }\n",
              "</style>\n",
              "\n",
              "  <script>\n",
              "    async function quickchart(key) {\n",
              "      const quickchartButtonEl =\n",
              "        document.querySelector('#' + key + ' button');\n",
              "      quickchartButtonEl.disabled = true;  // To prevent multiple clicks.\n",
              "      quickchartButtonEl.classList.add('colab-df-spinner');\n",
              "      try {\n",
              "        const charts = await google.colab.kernel.invokeFunction(\n",
              "            'suggestCharts', [key], {});\n",
              "      } catch (error) {\n",
              "        console.error('Error during call to suggestCharts:', error);\n",
              "      }\n",
              "      quickchartButtonEl.classList.remove('colab-df-spinner');\n",
              "      quickchartButtonEl.classList.add('colab-df-quickchart-complete');\n",
              "    }\n",
              "    (() => {\n",
              "      let quickchartButtonEl =\n",
              "        document.querySelector('#df-df58afe4-a21e-474b-9817-ad6ae06e5c80 button');\n",
              "      quickchartButtonEl.style.display =\n",
              "        google.colab.kernel.accessAllowed ? 'block' : 'none';\n",
              "    })();\n",
              "  </script>\n",
              "</div>\n",
              "    </div>\n",
              "  </div>\n"
            ]
          },
          "metadata": {},
          "execution_count": 61
        }
      ]
    },
    {
      "cell_type": "markdown",
      "source": [
        "# Train Classifier"
      ],
      "metadata": {
        "id": "0r9XprFTVn-K"
      }
    },
    {
      "cell_type": "code",
      "source": [
        "!pip install lime"
      ],
      "metadata": {
        "colab": {
          "base_uri": "https://localhost:8080/"
        },
        "id": "-B40qJSFWV8C",
        "outputId": "6709e3a9-124e-4766-e234-f206a14b3278"
      },
      "execution_count": 63,
      "outputs": [
        {
          "output_type": "stream",
          "name": "stdout",
          "text": [
            "Installing collected packages: lime\n",
            "Successfully installed lime-0.2.0.1\n"
          ]
        }
      ]
    },
    {
      "cell_type": "code",
      "source": [
        "\n"
      ],
      "metadata": {
        "id": "meS5nlHIW9Oy"
      },
      "execution_count": null,
      "outputs": []
    },
    {
      "cell_type": "code",
      "source": [
        "from sklearn.feature_extraction.text import TfidfVectorizer\n",
        "from sklearn.decomposition import TruncatedSVD\n",
        "from sklearn.linear_model import LogisticRegression\n",
        "from sklearn.pipeline import Pipeline\n",
        "from lime.lime_text import LimeTextExplainer\n",
        "from sklearn.metrics import f1_score\n",
        "from sklearn.model_selection import train_test_split, cross_val_score\n",
        "from sklearn.model_selection import StratifiedKFold"
      ],
      "metadata": {
        "id": "bv8bV0U1UzSU"
      },
      "execution_count": 97,
      "outputs": []
    },
    {
      "cell_type": "code",
      "source": [
        "# Define the TF-IDF vectorizer with a vocabulary size of 10,000 and n-grams of 1-3\n",
        "tfidf_vectorizer = TfidfVectorizer(max_features=10000, ngram_range=(1, 3))\n",
        "\n",
        "# Define the PCA dimensionality reduction with a suitable number of components\n",
        "svd = TruncatedSVD(n_components=100)  # Adjust the number of components as needed\n",
        "\n",
        "# Define the logistic regression classifier\n",
        "logistic_regression = LogisticRegression()\n",
        "\n",
        "# Create the pipeline with TF-IDF, PCA, and Logistic Regression\n",
        "pipeline = Pipeline([\n",
        "    ('tfidf', tfidf_vectorizer),\n",
        "    ('svd', svd),\n",
        "    ('classifier', logistic_regression)\n",
        "])\n",
        "\n",
        "# Assuming you have your data in X and labels in y\n",
        "X = dataset['text']\n",
        "y = dataset['label']\n",
        "\n",
        "# Split the data into an 80/20 train-test split\n",
        "X_train, X_test, y_train, y_test = train_test_split(X, y, test_size=0.2, random_state=42)\n",
        "\n",
        "\n",
        "# Perform 3-fold cross-validation with F1 score evaluation metrics\n",
        "kf = StratifiedKFold(n_splits=3, shuffle=True, random_state=42)\n",
        "f1_scores = cross_val_score(pipeline, X_train, y_train, cv=kf, scoring='f1')\n",
        "\n",
        "# Print the F1 scores for each fold\n",
        "for fold, f1 in enumerate(f1_scores):\n",
        "    print(f'Fold {fold + 1} F1 Score: {f1}')\n",
        "\n",
        "# Train the classifier on the entire training set and evaluate on the test set\n",
        "pipeline.fit(X_train, y_train)\n",
        "y_pred = pipeline.predict(X_test)\n",
        "f1_test = f1_score(y_test, y_pred)\n",
        "\n",
        "print(f'Test F1 Score: {f1_test}')"
      ],
      "metadata": {
        "colab": {
          "base_uri": "https://localhost:8080/"
        },
        "id": "75RPPLBYWKdl",
        "outputId": "3dd86ccc-6373-4a00-8f57-27ab8bcd735e"
      },
      "execution_count": 98,
      "outputs": [
        {
          "output_type": "stream",
          "name": "stdout",
          "text": [
            "Fold 1 F1 Score: 0.7892720306513411\n",
            "Fold 2 F1 Score: 0.7892720306513411\n",
            "Fold 3 F1 Score: 0.7938931297709924\n",
            "Test F1 Score: 0.77720207253886\n"
          ]
        }
      ]
    },
    {
      "cell_type": "markdown",
      "source": [
        "Show vocab samples:"
      ],
      "metadata": {
        "id": "EcYCi0APY6x9"
      }
    },
    {
      "cell_type": "code",
      "source": [
        "list(pipeline.steps[0][1].vocabulary_.keys())[:30]"
      ],
      "metadata": {
        "colab": {
          "base_uri": "https://localhost:8080/"
        },
        "id": "g-cd9-2SY9u8",
        "outputId": "c59b11e3-c42e-4d68-f750-7d62a09d81a9"
      },
      "execution_count": 99,
      "outputs": [
        {
          "output_type": "execute_result",
          "data": {
            "text/plain": [
              "['სათანების',\n",
              " 'ნისჰნები',\n",
              " 'ახათიათ',\n",
              " 'და',\n",
              " 'სჰენს',\n",
              " 'სულს',\n",
              " 'სჰემოვევლეო',\n",
              " 'სათანების ნისჰნები',\n",
              " 'ნისჰნები ახათიათ',\n",
              " 'ახათიათ და',\n",
              " 'და სჰენს',\n",
              " 'სჰენს სულს',\n",
              " 'სულს სჰემოვევლეო',\n",
              " 'სათანების ნისჰნები ახათიათ',\n",
              " 'ნისჰნები ახათიათ და',\n",
              " 'ახათიათ და სჰენს',\n",
              " 'და სჰენს სულს',\n",
              " 'სჰენს სულს სჰემოვევლეო',\n",
              " 'მაგარი',\n",
              " 'სირია',\n",
              " 'მაგარი სირია',\n",
              " 'ორი',\n",
              " 'ნეხვის',\n",
              " 'ბუზი',\n",
              " 'ბზუიან',\n",
              " 'ორივე',\n",
              " 'ნეხვზე',\n",
              " 'სხედან',\n",
              " 'ორი ნეხვის',\n",
              " 'ნეხვის ბუზი']"
            ]
          },
          "metadata": {},
          "execution_count": 99
        }
      ]
    },
    {
      "cell_type": "markdown",
      "source": [
        "# LIME explanations"
      ],
      "metadata": {
        "id": "ROwTXFnxbLeh"
      }
    },
    {
      "cell_type": "code",
      "source": [
        "def get_influential_words(comment, pipeline, num_features=10):\n",
        "    # Create a LIME explainer\n",
        "    explainer = LimeTextExplainer(\n",
        "        kernel_width=25,\n",
        "        kernel=None,\n",
        "        verbose=True,\n",
        "        class_names=['non-hate', 'hate'],\n",
        "        feature_selection='auto',\n",
        "        split_expression='\\W+',\n",
        "        bow=True,\n",
        "        mask_string=None,\n",
        "        random_state=42,\n",
        "        char_level=False\n",
        "    )\n",
        "\n",
        "    # Define a function to predict using your classifier\n",
        "    predict_fn = lambda x: pipeline.predict_proba(x)\n",
        "\n",
        "    # Explain the prediction for the given comment\n",
        "    explanation = explainer.explain_instance(comment, predict_fn, num_features=num_features)\n",
        "\n",
        "    # Get influential words and their importance scores\n",
        "    influential_words = explanation.as_list()\n",
        "\n",
        "    return influential_words"
      ],
      "metadata": {
        "id": "I_IuKd-CaxEs"
      },
      "execution_count": 138,
      "outputs": []
    },
    {
      "cell_type": "code",
      "source": [
        "def generate_visual_explanation(comment, pipeline, num_features=10):\n",
        "\n",
        "    # get influential words using Lime Explainer\n",
        "    influential_words = get_influential_words(comment, pipeline, num_features)\n",
        "\n",
        "    # Create a heatmap-like visualization\n",
        "    weights = [x[1] for x in influential_words]\n",
        "    words = [x[0] for x in influential_words]\n",
        "    colors = plt.cm.RdBu(np.array(weights) / max(weights))  # Normalize weights for color mapping\n",
        "\n",
        "    plt.figure(figsize=(12, 6))\n",
        "    plt.barh(words, weights, color=colors)\n",
        "    plt.xlabel('Word Importance')\n",
        "    plt.title('Influential Words in Comment')\n",
        "    plt.grid(axis='x', linestyle='--', alpha=0.6)\n",
        "    plt.show()"
      ],
      "metadata": {
        "id": "FaphzgXRZgqj"
      },
      "execution_count": 139,
      "outputs": []
    },
    {
      "cell_type": "code",
      "source": [
        "get_influential_words(\"ეს ადამიანი მაგარი სირია\", pipeline, 10)"
      ],
      "metadata": {
        "colab": {
          "base_uri": "https://localhost:8080/"
        },
        "id": "JqN94wPHbP6V",
        "outputId": "830e7848-fa43-4fd0-8ca7-da86ef444edb"
      },
      "execution_count": 145,
      "outputs": [
        {
          "output_type": "stream",
          "name": "stdout",
          "text": [
            "Intercept 0.6477259851442695\n",
            "Prediction_local [0.67202616]\n",
            "Right: 0.6708407179784094\n"
          ]
        },
        {
          "output_type": "execute_result",
          "data": {
            "text/plain": [
              "[('მაგარი', 0.0196554638152442),\n",
              " ('ეს', 0.014815179708345642),\n",
              " ('ადამიანი', -0.006303794160704872),\n",
              " ('სირია', -0.003866672286563719)]"
            ]
          },
          "metadata": {},
          "execution_count": 145
        }
      ]
    },
    {
      "cell_type": "code",
      "source": [
        "get_influential_words(\"ეს ადამიანი ძალიან მიყვარს\", pipeline, 10)"
      ],
      "metadata": {
        "colab": {
          "base_uri": "https://localhost:8080/"
        },
        "id": "a0JDhZcohYBh",
        "outputId": "654e3521-8664-47a3-bb79-3f1a98a7851b"
      },
      "execution_count": 148,
      "outputs": [
        {
          "output_type": "stream",
          "name": "stdout",
          "text": [
            "Intercept 0.6260547617746399\n",
            "Prediction_local [0.61263873]\n",
            "Right: 0.6179213167138281\n"
          ]
        },
        {
          "output_type": "execute_result",
          "data": {
            "text/plain": [
              "[('ძალიან', -0.043618922355269936),\n",
              " ('ეს', 0.02834795214215593),\n",
              " ('ადამიანი', 0.004432576673050067),\n",
              " ('მიყვარს', -0.002577636023372602)]"
            ]
          },
          "metadata": {},
          "execution_count": 148
        }
      ]
    },
    {
      "cell_type": "code",
      "source": [
        "generate_visual_explanation(\"ეს ადამიანი მაგარი სირია\", pipeline, 20)"
      ],
      "metadata": {
        "colab": {
          "base_uri": "https://localhost:8080/",
          "height": 616
        },
        "id": "MH3T_KK9hkPr",
        "outputId": "e8fcc615-3296-4641-ff12-0edf02ea8204"
      },
      "execution_count": 150,
      "outputs": [
        {
          "output_type": "stream",
          "name": "stdout",
          "text": [
            "Intercept 0.6477259851442695\n",
            "Prediction_local [0.67202616]\n",
            "Right: 0.6708407179784094\n"
          ]
        },
        {
          "output_type": "display_data",
          "data": {
            "text/plain": [
              "<Figure size 1200x600 with 1 Axes>"
            ],
            "image/png": "[encoded data removed]"
          },
          "metadata": {}
        }
      ]
    },
    {
      "cell_type": "code",
      "source": [
        "generate_visual_explanation(\"ეს ადამიანი ძალიან მიყვარს\", pipeline, 20)"
      ],
      "metadata": {
        "colab": {
          "base_uri": "https://localhost:8080/",
          "height": 616
        },
        "id": "55dnxy00a3IW",
        "outputId": "0f2a7b6f-42a4-476f-d7f7-57eae2ce5d47"
      },
      "execution_count": 149,
      "outputs": [
        {
          "output_type": "stream",
          "name": "stdout",
          "text": [
            "Intercept 0.6260547617746399\n",
            "Prediction_local [0.61263873]\n",
            "Right: 0.6179213167138281\n"
          ]
        },
        {
          "output_type": "display_data",
          "data": {
            "text/plain": [
              "<Figure size 1200x600 with 1 Axes>"
            ],
            "image/png": "[encoded data removed]"
          },
          "metadata": {}
        }
      ]
    },
    {
      "cell_type": "markdown",
      "source": [
        "# Store Trained Model For Inference"
      ],
      "metadata": {
        "id": "TJUetCD1hwd2"
      }
    },
    {
      "cell_type": "code",
      "source": [
        "!pip install joblib"
      ],
      "metadata": {
        "colab": {
          "base_uri": "https://localhost:8080/"
        },
        "id": "-M-mwggIf_WI",
        "outputId": "e2e98736-f663-4509-991d-2663dde633cd"
      },
      "execution_count": 151,
      "outputs": [
        {
          "output_type": "stream",
          "name": "stdout",
          "text": [
            "Requirement already satisfied: joblib in /usr/local/lib/python3.10/dist-packages (1.3.2)\n"
          ]
        }
      ]
    },
    {
      "cell_type": "code",
      "source": [
        "import joblib"
      ],
      "metadata": {
        "id": "nQBjtb3tiBJ4"
      },
      "execution_count": 154,
      "outputs": []
    },
    {
      "cell_type": "code",
      "source": [
        "joblib.dump(pipeline, 'tfidf_logreg_classifier.pkl')"
      ],
      "metadata": {
        "colab": {
          "base_uri": "https://localhost:8080/"
        },
        "id": "6tPKqj1ahzf7",
        "outputId": "2ca61b5b-15c1-4d20-b5cc-fcea31695459"
      },
      "execution_count": 155,
      "outputs": [
        {
          "output_type": "execute_result",
          "data": {
            "text/plain": [
              "['tfidf_logreg_classifier.pkl']"
            ]
          },
          "metadata": {},
          "execution_count": 155
        }
      ]
    }
  ]
}